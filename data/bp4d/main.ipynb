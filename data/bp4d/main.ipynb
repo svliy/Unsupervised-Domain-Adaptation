{
 "cells": [
  {
   "cell_type": "code",
   "execution_count": 64,
   "metadata": {},
   "outputs": [],
   "source": [
    "import pandas as pd\n",
    "import os"
   ]
  },
  {
   "cell_type": "code",
   "execution_count": 65,
   "metadata": {},
   "outputs": [],
   "source": [
    "def from_txt_to_csv(dataset='bp4d', img_path_file=None, label_file=None):\n",
    "    \n",
    "    if dataset == 'bp4d':\n",
    "        img_path = pd.read_csv(img_path_file, names=['img_path'])\n",
    "        label = pd.read_csv(label_file,\n",
    "                            names=['AU1','AU2','AU4','AU6','AU7','AU10','AU12','AU14','AU15','AU17','AU23','AU24'],\n",
    "                            sep=' ')\n",
    "    elif dataset == 'disfa':\n",
    "        img_path = pd.read_csv('/mnt/sda/yiren/code/uda/cross_au/data/bp4d/list/BP4D_train_img_path_fold1.txt', names=['img_path'])\n",
    "        label = pd.read_csv('/mnt/sda/yiren/code/uda/cross_au/data/bp4d/list/BP4D_train_label_fold1.txt',\n",
    "                            names=['AU1','AU2','AU4','AU6','AU7','AU10','AU12','AU14','AU15','AU17','AU23','AU24'],\n",
    "                            sep=' ')\n",
    "    return pd.concat([img_path, label], axis=1)"
   ]
  },
  {
   "cell_type": "code",
   "execution_count": 66,
   "metadata": {},
   "outputs": [],
   "source": [
    "def add_person_column_to_second(df):\n",
    "    \"\"\"\n",
    "    给CSV文件添加person列，person的值从img_path中提取，并将person列放到第二列。\n",
    "\n",
    "    Args:\n",
    "        csv_file (str): CSV文件路径。\n",
    "    \"\"\"\n",
    "    # 提取person值\n",
    "    df['person'] = df['img_path'].apply(lambda x: os.path.basename(os.path.dirname(x)).split('_')[0])\n",
    "\n",
    "    # 获取所有列的列表\n",
    "    cols = df.columns.tolist()\n",
    "\n",
    "    # 将person列移动到第二列\n",
    "    cols.insert(1, cols.pop(cols.index('person')))\n",
    "\n",
    "    # 重新排列DataFrame的列\n",
    "    df = df[cols]\n",
    "    \n",
    "    return df"
   ]
  },
  {
   "cell_type": "code",
   "execution_count": 67,
   "metadata": {},
   "outputs": [],
   "source": [
    "train_1f = from_txt_to_csv('bp4d',\n",
    "                           img_path_file='/mnt/sda/yiren/code/uda/cross_au/data/bp4d/list/BP4D_train_img_path_fold1.txt',\n",
    "                           label_file='/mnt/sda/yiren/code/uda/cross_au/data/bp4d/list/BP4D_train_label_fold1.txt')\n",
    "test_1f = from_txt_to_csv('bp4d',\n",
    "                           img_path_file='/mnt/sda/yiren/code/uda/cross_au/data/bp4d/list/BP4D_test_img_path_fold1.txt',\n",
    "                           label_file='/mnt/sda/yiren/code/uda/cross_au/data/bp4d/list/BP4D_test_label_fold1.txt')"
   ]
  },
  {
   "cell_type": "code",
   "execution_count": 68,
   "metadata": {},
   "outputs": [
    {
     "data": {
      "text/plain": [
       "(99611, 42554, 142165)"
      ]
     },
     "execution_count": 68,
     "metadata": {},
     "output_type": "execute_result"
    }
   ],
   "source": [
    "len(train_1f), len(test_1f), len(train_1f) + len(test_1f)"
   ]
  },
  {
   "cell_type": "code",
   "execution_count": 69,
   "metadata": {},
   "outputs": [],
   "source": [
    "train_1f = add_person_column_to_second(train_1f)\n",
    "test_1f = add_person_column_to_second(test_1f)\n",
    "train_1f.to_csv('train_1f.csv', index=None)\n",
    "test_1f.to_csv('test_1f.csv', index=None)"
   ]
  },
  {
   "cell_type": "code",
   "execution_count": 71,
   "metadata": {},
   "outputs": [
    {
     "name": "stdout",
     "output_type": "stream",
     "text": [
      "142165\n"
     ]
    }
   ],
   "source": [
    "total_file = pd.concat([train_1f, test_1f], axis=0)\n",
    "print(len(total_file))\n",
    "total_file.to_csv('total.csv', index=None)"
   ]
  },
  {
   "cell_type": "markdown",
   "metadata": {},
   "source": [
    "## Fold 2"
   ]
  },
  {
   "cell_type": "code",
   "execution_count": 72,
   "metadata": {},
   "outputs": [],
   "source": [
    "train_2f = from_txt_to_csv('bp4d',\n",
    "                           img_path_file='/mnt/sda/yiren/code/uda/cross_au/data/bp4d/list/BP4D_train_img_path_fold2.txt',\n",
    "                           label_file='/mnt/sda/yiren/code/uda/cross_au/data/bp4d/list/BP4D_train_label_fold2.txt')\n",
    "test_2f = from_txt_to_csv('bp4d',\n",
    "                           img_path_file='/mnt/sda/yiren/code/uda/cross_au/data/bp4d/list/BP4D_test_img_path_fold2.txt',\n",
    "                           label_file='/mnt/sda/yiren/code/uda/cross_au/data/bp4d/list/BP4D_test_label_fold2.txt')"
   ]
  },
  {
   "cell_type": "code",
   "execution_count": 73,
   "metadata": {},
   "outputs": [
    {
     "data": {
      "text/plain": [
       "(93106, 49059, 142165)"
      ]
     },
     "execution_count": 73,
     "metadata": {},
     "output_type": "execute_result"
    }
   ],
   "source": [
    "len(train_2f), len(test_2f), len(train_2f) + len(test_2f)"
   ]
  },
  {
   "cell_type": "code",
   "execution_count": 74,
   "metadata": {},
   "outputs": [],
   "source": [
    "train_2f = add_person_column_to_second(train_2f)\n",
    "test_2f = add_person_column_to_second(test_2f)\n",
    "train_2f.to_csv('train_2f.csv', index=None)\n",
    "test_2f.to_csv('test_2f.csv', index=None)"
   ]
  },
  {
   "cell_type": "markdown",
   "metadata": {},
   "source": [
    "## Fold 3"
   ]
  },
  {
   "cell_type": "code",
   "execution_count": 75,
   "metadata": {},
   "outputs": [],
   "source": [
    "train_3f = from_txt_to_csv('bp4d',\n",
    "                           img_path_file='/mnt/sda/yiren/code/uda/cross_au/data/bp4d/list/BP4D_train_img_path_fold3.txt',\n",
    "                           label_file='/mnt/sda/yiren/code/uda/cross_au/data/bp4d/list/BP4D_train_label_fold3.txt')\n",
    "test_3f = from_txt_to_csv('bp4d',\n",
    "                           img_path_file='/mnt/sda/yiren/code/uda/cross_au/data/bp4d/list/BP4D_test_img_path_fold3.txt',\n",
    "                           label_file='/mnt/sda/yiren/code/uda/cross_au/data/bp4d/list/BP4D_test_label_fold3.txt')"
   ]
  },
  {
   "cell_type": "code",
   "execution_count": 76,
   "metadata": {},
   "outputs": [
    {
     "data": {
      "text/plain": [
       "(91613, 50552, 142165)"
      ]
     },
     "execution_count": 76,
     "metadata": {},
     "output_type": "execute_result"
    }
   ],
   "source": [
    "len(train_3f), len(test_3f), len(train_3f) + len(test_3f)"
   ]
  },
  {
   "cell_type": "code",
   "execution_count": 77,
   "metadata": {},
   "outputs": [],
   "source": [
    "train_3f = add_person_column_to_second(train_3f)\n",
    "test_3f = add_person_column_to_second(test_3f)\n",
    "train_3f.to_csv('train_3f.csv', index=None)\n",
    "test_3f.to_csv('test_3f.csv', index=None)"
   ]
  },
  {
   "cell_type": "code",
   "execution_count": null,
   "metadata": {},
   "outputs": [],
   "source": []
  }
 ],
 "metadata": {
  "kernelspec": {
   "display_name": "uda",
   "language": "python",
   "name": "python3"
  },
  "language_info": {
   "codemirror_mode": {
    "name": "ipython",
    "version": 3
   },
   "file_extension": ".py",
   "mimetype": "text/x-python",
   "name": "python",
   "nbconvert_exporter": "python",
   "pygments_lexer": "ipython3",
   "version": "3.10.16"
  }
 },
 "nbformat": 4,
 "nbformat_minor": 2
}
