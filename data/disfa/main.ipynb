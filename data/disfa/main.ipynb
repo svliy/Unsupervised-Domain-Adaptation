{
 "cells": [
  {
   "cell_type": "code",
   "execution_count": 1,
   "metadata": {},
   "outputs": [],
   "source": [
    "import pandas as pd\n",
    "import os"
   ]
  },
  {
   "cell_type": "code",
   "execution_count": 2,
   "metadata": {},
   "outputs": [],
   "source": [
    "def from_txt_to_csv(dataset='disfa', img_path_file=None, label_file=None):\n",
    "    if dataset == 'disfa':\n",
    "        img_path = pd.read_csv(img_path_file, names=['img_path'])\n",
    "        label = pd.read_csv(label_file,\n",
    "                            names=['AU1','AU2','AU4','AU6','AU9','AU12','AU25','AU26'],\n",
    "                            sep=' ')\n",
    "    return pd.concat([img_path, label], axis=1)"
   ]
  },
  {
   "cell_type": "code",
   "execution_count": 9,
   "metadata": {},
   "outputs": [],
   "source": [
    "def add_person_column_to_second(df):\n",
    "    \"\"\"\n",
    "    给CSV文件添加person列，person的值从img_path中提取，并将person列放到第二列。\n",
    "\n",
    "    Args:\n",
    "        csv_file (str): CSV文件路径。\n",
    "    \"\"\"\n",
    "    # 提取person值，适用于\"SN002/0.jpg\"格式\n",
    "    df['person'] = df['img_path'].apply(lambda x: os.path.dirname(x).split('/')[0])\n",
    "\n",
    "    # 获取所有列的列表\n",
    "    cols = df.columns.tolist()\n",
    "\n",
    "    # 将person列移动到第二列\n",
    "    cols.insert(1, cols.pop(cols.index('person')))\n",
    "\n",
    "    # 重新排列DataFrame的列\n",
    "    df = df[cols]\n",
    "    \n",
    "    return df"
   ]
  },
  {
   "cell_type": "code",
   "execution_count": 10,
   "metadata": {},
   "outputs": [],
   "source": [
    "train_1f = from_txt_to_csv('disfa',\n",
    "                           img_path_file='/mnt/sda/yiren/code/uda/cross_au/data/disfa/list/DISFA_train_img_path_fold1.txt',\n",
    "                           label_file='/mnt/sda/yiren/code/uda/cross_au/data/disfa/list/DISFA_train_label_fold1.txt')\n",
    "test_1f = from_txt_to_csv('disfa',\n",
    "                           img_path_file='/mnt/sda/yiren/code/uda/cross_au/data/disfa/list/DISFA_test_img_path_fold1.txt',\n",
    "                           label_file='/mnt/sda/yiren/code/uda/cross_au/data/disfa/list/DISFA_test_label_fold1.txt')"
   ]
  },
  {
   "cell_type": "code",
   "execution_count": 11,
   "metadata": {},
   "outputs": [
    {
     "data": {
      "text/plain": [
       "(86731, 43583, 130314)"
      ]
     },
     "execution_count": 11,
     "metadata": {},
     "output_type": "execute_result"
    }
   ],
   "source": [
    "len(train_1f), len(test_1f), len(train_1f) + len(test_1f)"
   ]
  },
  {
   "cell_type": "code",
   "execution_count": 12,
   "metadata": {},
   "outputs": [
    {
     "data": {
      "text/html": [
       "<div>\n",
       "<style scoped>\n",
       "    .dataframe tbody tr th:only-of-type {\n",
       "        vertical-align: middle;\n",
       "    }\n",
       "\n",
       "    .dataframe tbody tr th {\n",
       "        vertical-align: top;\n",
       "    }\n",
       "\n",
       "    .dataframe thead th {\n",
       "        text-align: right;\n",
       "    }\n",
       "</style>\n",
       "<table border=\"1\" class=\"dataframe\">\n",
       "  <thead>\n",
       "    <tr style=\"text-align: right;\">\n",
       "      <th></th>\n",
       "      <th>img_path</th>\n",
       "      <th>AU1</th>\n",
       "      <th>AU2</th>\n",
       "      <th>AU4</th>\n",
       "      <th>AU6</th>\n",
       "      <th>AU9</th>\n",
       "      <th>AU12</th>\n",
       "      <th>AU25</th>\n",
       "      <th>AU26</th>\n",
       "    </tr>\n",
       "  </thead>\n",
       "  <tbody>\n",
       "    <tr>\n",
       "      <th>0</th>\n",
       "      <td>SN002/0.jpg</td>\n",
       "      <td>0</td>\n",
       "      <td>0</td>\n",
       "      <td>0</td>\n",
       "      <td>0</td>\n",
       "      <td>0</td>\n",
       "      <td>0</td>\n",
       "      <td>0</td>\n",
       "      <td>0</td>\n",
       "    </tr>\n",
       "    <tr>\n",
       "      <th>1</th>\n",
       "      <td>SN002/1.jpg</td>\n",
       "      <td>0</td>\n",
       "      <td>0</td>\n",
       "      <td>0</td>\n",
       "      <td>0</td>\n",
       "      <td>0</td>\n",
       "      <td>0</td>\n",
       "      <td>0</td>\n",
       "      <td>0</td>\n",
       "    </tr>\n",
       "    <tr>\n",
       "      <th>2</th>\n",
       "      <td>SN002/2.jpg</td>\n",
       "      <td>0</td>\n",
       "      <td>0</td>\n",
       "      <td>0</td>\n",
       "      <td>0</td>\n",
       "      <td>0</td>\n",
       "      <td>0</td>\n",
       "      <td>0</td>\n",
       "      <td>0</td>\n",
       "    </tr>\n",
       "    <tr>\n",
       "      <th>3</th>\n",
       "      <td>SN002/3.jpg</td>\n",
       "      <td>0</td>\n",
       "      <td>0</td>\n",
       "      <td>0</td>\n",
       "      <td>0</td>\n",
       "      <td>0</td>\n",
       "      <td>0</td>\n",
       "      <td>0</td>\n",
       "      <td>0</td>\n",
       "    </tr>\n",
       "    <tr>\n",
       "      <th>4</th>\n",
       "      <td>SN002/4.jpg</td>\n",
       "      <td>0</td>\n",
       "      <td>0</td>\n",
       "      <td>0</td>\n",
       "      <td>0</td>\n",
       "      <td>0</td>\n",
       "      <td>0</td>\n",
       "      <td>0</td>\n",
       "      <td>0</td>\n",
       "    </tr>\n",
       "    <tr>\n",
       "      <th>...</th>\n",
       "      <td>...</td>\n",
       "      <td>...</td>\n",
       "      <td>...</td>\n",
       "      <td>...</td>\n",
       "      <td>...</td>\n",
       "      <td>...</td>\n",
       "      <td>...</td>\n",
       "      <td>...</td>\n",
       "      <td>...</td>\n",
       "    </tr>\n",
       "    <tr>\n",
       "      <th>86726</th>\n",
       "      <td>SN029/4840.jpg</td>\n",
       "      <td>1</td>\n",
       "      <td>1</td>\n",
       "      <td>0</td>\n",
       "      <td>0</td>\n",
       "      <td>0</td>\n",
       "      <td>0</td>\n",
       "      <td>0</td>\n",
       "      <td>0</td>\n",
       "    </tr>\n",
       "    <tr>\n",
       "      <th>86727</th>\n",
       "      <td>SN029/4841.jpg</td>\n",
       "      <td>1</td>\n",
       "      <td>1</td>\n",
       "      <td>0</td>\n",
       "      <td>0</td>\n",
       "      <td>0</td>\n",
       "      <td>0</td>\n",
       "      <td>0</td>\n",
       "      <td>0</td>\n",
       "    </tr>\n",
       "    <tr>\n",
       "      <th>86728</th>\n",
       "      <td>SN029/4842.jpg</td>\n",
       "      <td>1</td>\n",
       "      <td>1</td>\n",
       "      <td>0</td>\n",
       "      <td>0</td>\n",
       "      <td>0</td>\n",
       "      <td>0</td>\n",
       "      <td>0</td>\n",
       "      <td>0</td>\n",
       "    </tr>\n",
       "    <tr>\n",
       "      <th>86729</th>\n",
       "      <td>SN029/4843.jpg</td>\n",
       "      <td>1</td>\n",
       "      <td>1</td>\n",
       "      <td>0</td>\n",
       "      <td>0</td>\n",
       "      <td>0</td>\n",
       "      <td>0</td>\n",
       "      <td>0</td>\n",
       "      <td>0</td>\n",
       "    </tr>\n",
       "    <tr>\n",
       "      <th>86730</th>\n",
       "      <td>SN029/4844.jpg</td>\n",
       "      <td>1</td>\n",
       "      <td>1</td>\n",
       "      <td>0</td>\n",
       "      <td>0</td>\n",
       "      <td>0</td>\n",
       "      <td>0</td>\n",
       "      <td>0</td>\n",
       "      <td>0</td>\n",
       "    </tr>\n",
       "  </tbody>\n",
       "</table>\n",
       "<p>86731 rows × 9 columns</p>\n",
       "</div>"
      ],
      "text/plain": [
       "             img_path  AU1  AU2  AU4  AU6  AU9  AU12  AU25  AU26\n",
       "0         SN002/0.jpg    0    0    0    0    0     0     0     0\n",
       "1         SN002/1.jpg    0    0    0    0    0     0     0     0\n",
       "2         SN002/2.jpg    0    0    0    0    0     0     0     0\n",
       "3         SN002/3.jpg    0    0    0    0    0     0     0     0\n",
       "4         SN002/4.jpg    0    0    0    0    0     0     0     0\n",
       "...               ...  ...  ...  ...  ...  ...   ...   ...   ...\n",
       "86726  SN029/4840.jpg    1    1    0    0    0     0     0     0\n",
       "86727  SN029/4841.jpg    1    1    0    0    0     0     0     0\n",
       "86728  SN029/4842.jpg    1    1    0    0    0     0     0     0\n",
       "86729  SN029/4843.jpg    1    1    0    0    0     0     0     0\n",
       "86730  SN029/4844.jpg    1    1    0    0    0     0     0     0\n",
       "\n",
       "[86731 rows x 9 columns]"
      ]
     },
     "execution_count": 12,
     "metadata": {},
     "output_type": "execute_result"
    }
   ],
   "source": [
    "train_1f"
   ]
  },
  {
   "cell_type": "code",
   "execution_count": 13,
   "metadata": {},
   "outputs": [],
   "source": [
    "train_1f = add_person_column_to_second(train_1f)\n",
    "test_1f = add_person_column_to_second(test_1f)\n",
    "train_1f.to_csv('train_1f.csv', index=None)\n",
    "test_1f.to_csv('test_1f.csv', index=None)"
   ]
  },
  {
   "cell_type": "code",
   "execution_count": 14,
   "metadata": {},
   "outputs": [
    {
     "name": "stdout",
     "output_type": "stream",
     "text": [
      "130314\n"
     ]
    }
   ],
   "source": [
    "total_file = pd.concat([train_1f, test_1f], axis=0)\n",
    "print(len(total_file))\n",
    "total_file.to_csv('total.csv', index=None)"
   ]
  },
  {
   "cell_type": "markdown",
   "metadata": {},
   "source": [
    "## Fold 2"
   ]
  },
  {
   "cell_type": "code",
   "execution_count": 16,
   "metadata": {},
   "outputs": [],
   "source": [
    "train_2f = from_txt_to_csv('disfa',\n",
    "                           img_path_file='/mnt/sda/yiren/code/uda/cross_au/data/disfa/list/DISFA_train_img_path_fold2.txt',\n",
    "                           label_file='/mnt/sda/yiren/code/uda/cross_au/data/disfa/list/DISFA_train_label_fold2.txt')\n",
    "test_2f = from_txt_to_csv('disfa',\n",
    "                           img_path_file='/mnt/sda/yiren/code/uda/cross_au/data/disfa/list/DISFA_test_img_path_fold2.txt',\n",
    "                           label_file='/mnt/sda/yiren/code/uda/cross_au/data/disfa/list/DISFA_test_label_fold2.txt')"
   ]
  },
  {
   "cell_type": "code",
   "execution_count": 17,
   "metadata": {},
   "outputs": [
    {
     "data": {
      "text/plain": [
       "(87132, 43182, 130314)"
      ]
     },
     "execution_count": 17,
     "metadata": {},
     "output_type": "execute_result"
    }
   ],
   "source": [
    "len(train_2f), len(test_2f), len(train_2f) + len(test_2f)"
   ]
  },
  {
   "cell_type": "code",
   "execution_count": 18,
   "metadata": {},
   "outputs": [],
   "source": [
    "train_2f = add_person_column_to_second(train_2f)\n",
    "test_2f = add_person_column_to_second(test_2f)\n",
    "train_2f.to_csv('train_2f.csv', index=None)\n",
    "test_2f.to_csv('test_2f.csv', index=None)"
   ]
  },
  {
   "cell_type": "markdown",
   "metadata": {},
   "source": [
    "## Fold 3"
   ]
  },
  {
   "cell_type": "code",
   "execution_count": 19,
   "metadata": {},
   "outputs": [],
   "source": [
    "train_3f = from_txt_to_csv('disfa',\n",
    "                           img_path_file='/mnt/sda/yiren/code/uda/cross_au/data/disfa/list/DISFA_train_img_path_fold3.txt',\n",
    "                           label_file='/mnt/sda/yiren/code/uda/cross_au/data/disfa/list/DISFA_train_label_fold3.txt')\n",
    "test_3f = from_txt_to_csv('disfa',\n",
    "                           img_path_file='/mnt/sda/yiren/code/uda/cross_au/data/disfa/list/DISFA_test_img_path_fold3.txt',\n",
    "                           label_file='/mnt/sda/yiren/code/uda/cross_au/data/disfa/list/DISFA_test_label_fold3.txt')"
   ]
  },
  {
   "cell_type": "code",
   "execution_count": 20,
   "metadata": {},
   "outputs": [
    {
     "data": {
      "text/plain": [
       "(86765, 43549, 130314)"
      ]
     },
     "execution_count": 20,
     "metadata": {},
     "output_type": "execute_result"
    }
   ],
   "source": [
    "len(train_3f), len(test_3f), len(train_3f) + len(test_3f)"
   ]
  },
  {
   "cell_type": "code",
   "execution_count": 21,
   "metadata": {},
   "outputs": [],
   "source": [
    "train_3f = add_person_column_to_second(train_3f)\n",
    "test_3f = add_person_column_to_second(test_3f)\n",
    "train_3f.to_csv('train_3f.csv', index=None)\n",
    "test_3f.to_csv('test_3f.csv', index=None)"
   ]
  },
  {
   "cell_type": "code",
   "execution_count": null,
   "metadata": {},
   "outputs": [],
   "source": []
  }
 ],
 "metadata": {
  "kernelspec": {
   "display_name": "uda",
   "language": "python",
   "name": "python3"
  },
  "language_info": {
   "codemirror_mode": {
    "name": "ipython",
    "version": 3
   },
   "file_extension": ".py",
   "mimetype": "text/x-python",
   "name": "python",
   "nbconvert_exporter": "python",
   "pygments_lexer": "ipython3",
   "version": "3.10.16"
  }
 },
 "nbformat": 4,
 "nbformat_minor": 2
}
