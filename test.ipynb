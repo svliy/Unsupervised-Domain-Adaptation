{
 "cells": [
  {
   "cell_type": "code",
   "execution_count": 13,
   "metadata": {},
   "outputs": [],
   "source": [
    "import torch\n",
    "import torch.nn as nn\n",
    "import torch.nn.functional as F\n",
    "\n",
    "import csv\n",
    "import numpy as np\n",
    "\n",
    "import matplotlib.pyplot as plt\n",
    "import numpy as np"
   ]
  },
  {
   "cell_type": "code",
   "execution_count": 18,
   "metadata": {},
   "outputs": [],
   "source": [
    "class Network(nn.Module):\n",
    "    \n",
    "    def __init__(self):\n",
    "        super().__init__()\n",
    "        self.conv1 = nn.Conv2d(3, 16, kernel_size=3, stride=1, padding=1)\n",
    "        self.conv2 = nn.Conv2d(16, 32, kernel_size=3, stride=1, padding=1)\n",
    "    \n",
    "    def forward(self, x):\n",
    "        x = F.relu(self.conv1(x))\n",
    "        x = F.relu(self.conv2(x))\n",
    "        return x"
   ]
  },
  {
   "cell_type": "code",
   "execution_count": 19,
   "metadata": {},
   "outputs": [],
   "source": [
    "model = Network()"
   ]
  },
  {
   "cell_type": "code",
   "execution_count": 20,
   "metadata": {},
   "outputs": [
    {
     "data": {
      "text/plain": [
       "__main__.Network"
      ]
     },
     "execution_count": 20,
     "metadata": {},
     "output_type": "execute_result"
    }
   ],
   "source": [
    "type(model)"
   ]
  },
  {
   "cell_type": "code",
   "execution_count": 21,
   "metadata": {},
   "outputs": [
    {
     "name": "stdout",
     "output_type": "stream",
     "text": [
      "conv1.weight: torch.Size([16, 3, 3, 3])\n",
      "conv1.bias: torch.Size([16])\n",
      "conv2.weight: torch.Size([32, 16, 3, 3])\n",
      "conv2.bias: torch.Size([32])\n"
     ]
    }
   ],
   "source": [
    "for name, param in model.named_parameters():\n",
    "    print(f\"{name}: {param.size()}\")"
   ]
  },
  {
   "cell_type": "code",
   "execution_count": 22,
   "metadata": {},
   "outputs": [],
   "source": [
    "def get_weight(config):\n",
    "    AUs_num = config.DATA.CLASS_NUM\n",
    "    aus = ['AU'+str(au_name) for au_name in config.DATA.AU_LIST]\n",
    "    with open(config.DATA.SOURCE.TRAIN_LIST, 'r') as f:\n",
    "        reader = csv.DictReader(f)\n",
    "        labels = np.array([[int(row[au]) for au in aus] for row in reader])\n",
    "        all_ = [len(labels)] * AUs_num\n",
    "        positive = np.sum(labels, 0)\n",
    "\n",
    "    negative = np.array(all_) - positive\n",
    "\n",
    "    weight_cls = WeightNorm(positive.tolist(), negative.tolist())\n",
    "    norm_weight = weight_cls.normalize()\n",
    "    norm_weight =  np.array(norm_weight)\n",
    "    norm_weight = norm_weight.tolist()\n",
    "    norm_weight = torch.FloatTensor(norm_weight)\n",
    "    return norm_weight"
   ]
  },
  {
   "cell_type": "code",
   "execution_count": null,
   "metadata": {},
   "outputs": [],
   "source": []
  },
  {
   "cell_type": "markdown",
   "metadata": {},
   "source": [
    "# 修改tensor的维度的函数"
   ]
  },
  {
   "cell_type": "code",
   "execution_count": 4,
   "metadata": {},
   "outputs": [],
   "source": [
    "import torch"
   ]
  },
  {
   "cell_type": "code",
   "execution_count": 25,
   "metadata": {},
   "outputs": [],
   "source": [
    "# 1.reshape\n",
    "\n",
    "x1 = torch.randn((128, 512, 7, 7))\n",
    "x2 = torch.randn((128, 512, 7, 7))"
   ]
  },
  {
   "cell_type": "code",
   "execution_count": 27,
   "metadata": {},
   "outputs": [
    {
     "data": {
      "text/plain": [
       "torch.Size([2, 128, 512, 7, 7])"
      ]
     },
     "execution_count": 27,
     "metadata": {},
     "output_type": "execute_result"
    }
   ],
   "source": [
    "torch.stack([x1, x2]).shape  # (2, 128, 512, 7, 7)"
   ]
  },
  {
   "cell_type": "code",
   "execution_count": null,
   "metadata": {},
   "outputs": [],
   "source": []
  },
  {
   "cell_type": "markdown",
   "metadata": {},
   "source": [
    "# 余弦退火算法"
   ]
  },
  {
   "cell_type": "code",
   "execution_count": 20,
   "metadata": {},
   "outputs": [],
   "source": [
    "model = nn.Linear(256, 5)\n",
    "optimizer = torch.optim.AdamW(model.parameters(), lr=0.1)\n",
    "\n",
    "epochs = 100\n",
    "\n",
    "scheduler = torch.optim.lr_scheduler.CosineAnnealingLR(optimizer, T_max=epochs)"
   ]
  },
  {
   "cell_type": "code",
   "execution_count": 21,
   "metadata": {},
   "outputs": [
    {
     "name": "stdout",
     "output_type": "stream",
     "text": [
      "Initial Learning Rate: 0.100000\n",
      "Epoch 1/100, Learning Rate: 0.099975\n",
      "Epoch 2/100, Learning Rate: 0.099901\n",
      "Epoch 3/100, Learning Rate: 0.099778\n",
      "Epoch 4/100, Learning Rate: 0.099606\n",
      "Epoch 5/100, Learning Rate: 0.099384\n",
      "Epoch 6/100, Learning Rate: 0.099114\n",
      "Epoch 7/100, Learning Rate: 0.098796\n",
      "Epoch 8/100, Learning Rate: 0.098429\n",
      "Epoch 9/100, Learning Rate: 0.098015\n",
      "Epoch 10/100, Learning Rate: 0.097553\n",
      "Epoch 11/100, Learning Rate: 0.097044\n",
      "Epoch 12/100, Learning Rate: 0.096489\n",
      "Epoch 13/100, Learning Rate: 0.095888\n",
      "Epoch 14/100, Learning Rate: 0.095241\n",
      "Epoch 15/100, Learning Rate: 0.094550\n",
      "Epoch 16/100, Learning Rate: 0.093815\n",
      "Epoch 17/100, Learning Rate: 0.093037\n",
      "Epoch 18/100, Learning Rate: 0.092216\n",
      "Epoch 19/100, Learning Rate: 0.091354\n",
      "Epoch 20/100, Learning Rate: 0.090451\n",
      "Epoch 21/100, Learning Rate: 0.089508\n",
      "Epoch 22/100, Learning Rate: 0.088526\n",
      "Epoch 23/100, Learning Rate: 0.087506\n",
      "Epoch 24/100, Learning Rate: 0.086448\n",
      "Epoch 25/100, Learning Rate: 0.085355\n",
      "Epoch 26/100, Learning Rate: 0.084227\n",
      "Epoch 27/100, Learning Rate: 0.083066\n",
      "Epoch 28/100, Learning Rate: 0.081871\n",
      "Epoch 29/100, Learning Rate: 0.080645\n",
      "Epoch 30/100, Learning Rate: 0.079389\n",
      "Epoch 31/100, Learning Rate: 0.078104\n",
      "Epoch 32/100, Learning Rate: 0.076791\n",
      "Epoch 33/100, Learning Rate: 0.075452\n",
      "Epoch 34/100, Learning Rate: 0.074088\n",
      "Epoch 35/100, Learning Rate: 0.072700\n",
      "Epoch 36/100, Learning Rate: 0.071289\n",
      "Epoch 37/100, Learning Rate: 0.069857\n",
      "Epoch 38/100, Learning Rate: 0.068406\n",
      "Epoch 39/100, Learning Rate: 0.066937\n",
      "Epoch 40/100, Learning Rate: 0.065451\n",
      "Epoch 41/100, Learning Rate: 0.063950\n",
      "Epoch 42/100, Learning Rate: 0.062434\n",
      "Epoch 43/100, Learning Rate: 0.060907\n",
      "Epoch 44/100, Learning Rate: 0.059369\n",
      "Epoch 45/100, Learning Rate: 0.057822\n",
      "Epoch 46/100, Learning Rate: 0.056267\n",
      "Epoch 47/100, Learning Rate: 0.054705\n",
      "Epoch 48/100, Learning Rate: 0.053140\n",
      "Epoch 49/100, Learning Rate: 0.051571\n",
      "Epoch 50/100, Learning Rate: 0.050000\n",
      "Epoch 51/100, Learning Rate: 0.048429\n",
      "Epoch 52/100, Learning Rate: 0.046860\n",
      "Epoch 53/100, Learning Rate: 0.045295\n",
      "Epoch 54/100, Learning Rate: 0.043733\n",
      "Epoch 55/100, Learning Rate: 0.042178\n",
      "Epoch 56/100, Learning Rate: 0.040631\n",
      "Epoch 57/100, Learning Rate: 0.039093\n",
      "Epoch 58/100, Learning Rate: 0.037566\n",
      "Epoch 59/100, Learning Rate: 0.036050\n",
      "Epoch 60/100, Learning Rate: 0.034549\n",
      "Epoch 61/100, Learning Rate: 0.033063\n",
      "Epoch 62/100, Learning Rate: 0.031594\n",
      "Epoch 63/100, Learning Rate: 0.030143\n",
      "Epoch 64/100, Learning Rate: 0.028711\n",
      "Epoch 65/100, Learning Rate: 0.027300\n",
      "Epoch 66/100, Learning Rate: 0.025912\n",
      "Epoch 67/100, Learning Rate: 0.024548\n",
      "Epoch 68/100, Learning Rate: 0.023209\n",
      "Epoch 69/100, Learning Rate: 0.021896\n",
      "Epoch 70/100, Learning Rate: 0.020611\n",
      "Epoch 71/100, Learning Rate: 0.019355\n",
      "Epoch 72/100, Learning Rate: 0.018129\n",
      "Epoch 73/100, Learning Rate: 0.016934\n",
      "Epoch 74/100, Learning Rate: 0.015773\n",
      "Epoch 75/100, Learning Rate: 0.014645\n",
      "Epoch 76/100, Learning Rate: 0.013552\n",
      "Epoch 77/100, Learning Rate: 0.012494\n",
      "Epoch 78/100, Learning Rate: 0.011474\n",
      "Epoch 79/100, Learning Rate: 0.010492\n",
      "Epoch 80/100, Learning Rate: 0.009549\n",
      "Epoch 81/100, Learning Rate: 0.008646\n",
      "Epoch 82/100, Learning Rate: 0.007784\n",
      "Epoch 83/100, Learning Rate: 0.006963\n",
      "Epoch 84/100, Learning Rate: 0.006185\n",
      "Epoch 85/100, Learning Rate: 0.005450\n",
      "Epoch 86/100, Learning Rate: 0.004759\n",
      "Epoch 87/100, Learning Rate: 0.004112\n",
      "Epoch 88/100, Learning Rate: 0.003511\n",
      "Epoch 89/100, Learning Rate: 0.002956\n",
      "Epoch 90/100, Learning Rate: 0.002447\n",
      "Epoch 91/100, Learning Rate: 0.001985\n",
      "Epoch 92/100, Learning Rate: 0.001571\n",
      "Epoch 93/100, Learning Rate: 0.001204\n",
      "Epoch 94/100, Learning Rate: 0.000886\n",
      "Epoch 95/100, Learning Rate: 0.000616\n",
      "Epoch 96/100, Learning Rate: 0.000394\n",
      "Epoch 97/100, Learning Rate: 0.000222\n",
      "Epoch 98/100, Learning Rate: 0.000099\n",
      "Epoch 99/100, Learning Rate: 0.000025\n",
      "Epoch 100/100, Learning Rate: 0.000000\n"
     ]
    }
   ],
   "source": [
    "y = [scheduler.get_last_lr()[0]]\n",
    "print(f\"Initial Learning Rate: {scheduler.get_last_lr()[0]:.6f}\")\n",
    "for epoch in range(epochs):\n",
    "    # 训练模型\n",
    "    optimizer.step()\n",
    "    \n",
    "    # 更新学习率\n",
    "    scheduler.step()\n",
    "    \n",
    "    # 打印当前学习率\n",
    "    print(f\"Epoch {epoch+1}/{epochs}, Learning Rate: {scheduler.get_last_lr()[0]:.6f}\")\n",
    "    y.append(scheduler.get_last_lr()[0])"
   ]
  },
  {
   "cell_type": "code",
   "execution_count": 22,
   "metadata": {},
   "outputs": [
    {
     "data": {
      "text/plain": [
       "[<matplotlib.lines.Line2D at 0x7f52d028ef50>]"
      ]
     },
     "execution_count": 22,
     "metadata": {},
     "output_type": "execute_result"
    },
    {
     "data": {
      "image/png": "[encoded data removed]",
      "text/plain": [
       "<Figure size 640x480 with 1 Axes>"
      ]
     },
     "metadata": {},
     "output_type": "display_data"
    }
   ],
   "source": [
    "plt.plot(range(epochs+1), y)"
   ]
  },
  {
   "cell_type": "code",
   "execution_count": null,
   "metadata": {},
   "outputs": [],
   "source": []
  },
  {
   "cell_type": "markdown",
   "metadata": {},
   "source": [
    "# Transforming and augmenting images"
   ]
  },
  {
   "cell_type": "code",
   "execution_count": 29,
   "metadata": {},
   "outputs": [],
   "source": [
    "import torch\n",
    "from torchvision.transforms import v2"
   ]
  },
  {
   "cell_type": "code",
   "execution_count": 30,
   "metadata": {},
   "outputs": [],
   "source": [
    "H, W = 32, 32\n",
    "img = torch.randint(0, 256, size=(3, H, W), dtype=torch.uint8)"
   ]
  },
  {
   "cell_type": "code",
   "execution_count": 39,
   "metadata": {},
   "outputs": [
    {
     "data": {
      "text/plain": [
       "<matplotlib.image.AxesImage at 0x7f52be04eef0>"
      ]
     },
     "execution_count": 39,
     "metadata": {},
     "output_type": "execute_result"
    },
    {
     "data": {
      "image/png": "[encoded data removed]",
      "text/plain": [
       "<Figure size 640x480 with 1 Axes>"
      ]
     },
     "metadata": {},
     "output_type": "display_data"
    }
   ],
   "source": [
    "plt.imshow(img.permute(1, 2, 0))"
   ]
  },
  {
   "cell_type": "code",
   "execution_count": null,
   "metadata": {},
   "outputs": [],
   "source": []
  }
 ],
 "metadata": {
  "kernelspec": {
   "display_name": "lighting",
   "language": "python",
   "name": "python3"
  },
  "language_info": {
   "codemirror_mode": {
    "name": "ipython",
    "version": 3
   },
   "file_extension": ".py",
   "mimetype": "text/x-python",
   "name": "python",
   "nbconvert_exporter": "python",
   "pygments_lexer": "ipython3",
   "version": "3.10.15"
  }
 },
 "nbformat": 4,
 "nbformat_minor": 2
}
